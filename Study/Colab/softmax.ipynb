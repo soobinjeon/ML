{
  "nbformat": 4,
  "nbformat_minor": 0,
  "metadata": {
    "colab": {
      "name": "softmax.ipynb",
      "version": "0.3.2",
      "provenance": [],
      "collapsed_sections": [],
      "include_colab_link": true
    },
    "kernelspec": {
      "name": "python3",
      "display_name": "Python 3"
    }
  },
  "cells": [
    {
      "cell_type": "markdown",
      "metadata": {
        "id": "view-in-github",
        "colab_type": "text"
      },
      "source": [
        "<a href=\"https://colab.research.google.com/github/soobinjeon/ML/blob/master/Study/Colab/softmax.ipynb\" target=\"_parent\"><img src=\"https://colab.research.google.com/assets/colab-badge.svg\" alt=\"Open In Colab\"/></a>"
      ]
    },
    {
      "metadata": {
        "id": "vlFvhRykdO8X",
        "colab_type": "code",
        "colab": {}
      },
      "cell_type": "code",
      "source": [
        "import tensorflow as tf"
      ],
      "execution_count": 0,
      "outputs": []
    },
    {
      "metadata": {
        "id": "3Bftm1QqjZ2P",
        "colab_type": "text"
      },
      "cell_type": "markdown",
      "source": [
        "Initialization Data"
      ]
    },
    {
      "metadata": {
        "id": "RDf7oyL9jdYd",
        "colab_type": "code",
        "colab": {
          "base_uri": "https://localhost:8080/",
          "height": 88
        },
        "outputId": "1db74846-03b0-45fb-c161-ce568842588a"
      },
      "cell_type": "code",
      "source": [
        "x_data = [[1, 2, 1, 1], [2,1,3,2], [3,1,3,4], [4,1,5,5], [1,7,5,5],\n",
        "          [1,2,5,6],[1,6,6,6], [1,7,7,7]]\n",
        "y_data = [[0,0,1], [0,0,1],[0,0,1],[0,1,0],[0,1,0],[0,1,0],[1,0,0],[1,0,0]]\n",
        "\n",
        "X = tf.placeholder(\"float\", [None, 4])\n",
        "Y = tf.placeholder(\"float\", [None, 3])\n",
        "nb_classes = 3\n",
        "\n",
        "W = tf.Variable(tf.random_normal([4, nb_classes]), name='weight')\n",
        "b = tf.Variable(tf.random_normal([nb_classes]), name='bias')"
      ],
      "execution_count": 2,
      "outputs": [
        {
          "output_type": "stream",
          "text": [
            "WARNING:tensorflow:From /usr/local/lib/python3.6/dist-packages/tensorflow/python/framework/op_def_library.py:263: colocate_with (from tensorflow.python.framework.ops) is deprecated and will be removed in a future version.\n",
            "Instructions for updating:\n",
            "Colocations handled automatically by placer.\n"
          ],
          "name": "stdout"
        }
      ]
    },
    {
      "metadata": {
        "id": "9aBfCd4SkRSk",
        "colab_type": "text"
      },
      "cell_type": "markdown",
      "source": [
        "Softmax Computes softmax activations"
      ]
    },
    {
      "metadata": {
        "id": "cczP3MqOkUUH",
        "colab_type": "code",
        "colab": {}
      },
      "cell_type": "code",
      "source": [
        "hypothesis = tf.nn.softmax(tf.matmul(X, W) + b)"
      ],
      "execution_count": 0,
      "outputs": []
    },
    {
      "metadata": {
        "id": "uF9ThFi8kcL0",
        "colab_type": "text"
      },
      "cell_type": "markdown",
      "source": [
        "Cost entropy cost/Loss"
      ]
    },
    {
      "metadata": {
        "id": "ghNHnnWikeXK",
        "colab_type": "code",
        "colab": {
          "base_uri": "https://localhost:8080/",
          "height": 88
        },
        "outputId": "ae57b175-ea11-4d57-850e-c32c2a1c716c"
      },
      "cell_type": "code",
      "source": [
        "cost = tf.reduce_mean(-tf.reduce_sum(Y*tf.log(hypothesis), axis=1))\n",
        "\n",
        "optimizer = tf.train.GradientDescentOptimizer(learning_rate=0.1).minimize(cost)"
      ],
      "execution_count": 4,
      "outputs": [
        {
          "output_type": "stream",
          "text": [
            "WARNING:tensorflow:From /usr/local/lib/python3.6/dist-packages/tensorflow/python/ops/math_ops.py:3066: to_int32 (from tensorflow.python.ops.math_ops) is deprecated and will be removed in a future version.\n",
            "Instructions for updating:\n",
            "Use tf.cast instead.\n"
          ],
          "name": "stdout"
        }
      ]
    },
    {
      "metadata": {
        "id": "fd_Mm9KPlG4s",
        "colab_type": "text"
      },
      "cell_type": "markdown",
      "source": [
        "Launch graph"
      ]
    },
    {
      "metadata": {
        "id": "gKj4sxTrlIJH",
        "colab_type": "code",
        "colab": {
          "base_uri": "https://localhost:8080/",
          "height": 34
        },
        "outputId": "29f21622-9d87-4e4f-90f9-036e69356206"
      },
      "cell_type": "code",
      "source": [
        "with tf.Session() as sess:\n",
        "  sess.run(tf.global_variables_initializer())\n",
        "  \n",
        "  for step in range(2001):\n",
        "    sess.run(optimizer, feed_dict={X: x_data, Y: y_data})\n",
        "    if step % 200 == 0:\n",
        "      print(step, sess.run(cost, feed_dict={X: x_data, Y: y_data}))\n",
        "\n",
        "  a = sess.run(hypothesis, feed_dict={X: [[1, 11, 7, 9]]})\n",
        "  print(a, sess.run(tf.arg_max(a, 1)))"
      ],
      "execution_count": 16,
      "outputs": [
        {
          "output_type": "stream",
          "text": [
            "[[7.3261601e-03 9.9266362e-01 1.0297717e-05]] [1]\n"
          ],
          "name": "stdout"
        }
      ]
    }
  ]
}